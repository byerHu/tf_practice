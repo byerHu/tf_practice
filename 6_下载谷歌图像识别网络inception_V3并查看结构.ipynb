{
  "nbformat": 4,
  "nbformat_minor": 0,
  "metadata": {
    "colab": {
      "name": "6-下载谷歌图像识别网络inception-V3并查看结构.ipynb",
      "version": "0.3.2",
      "provenance": [],
      "include_colab_link": true
    },
    "kernelspec": {
      "name": "python3",
      "display_name": "Python 3"
    },
    "accelerator": "GPU"
  },
  "cells": [
    {
      "cell_type": "markdown",
      "metadata": {
        "id": "view-in-github",
        "colab_type": "text"
      },
      "source": [
        "<a href=\"https://colab.research.google.com/github/byerHu/tf_practice/blob/master/6_%E4%B8%8B%E8%BD%BD%E8%B0%B7%E6%AD%8C%E5%9B%BE%E5%83%8F%E8%AF%86%E5%88%AB%E7%BD%91%E7%BB%9Cinception_V3%E5%B9%B6%E6%9F%A5%E7%9C%8B%E7%BB%93%E6%9E%84.ipynb\" target=\"_parent\"><img src=\"https://colab.research.google.com/assets/colab-badge.svg\" alt=\"Open In Colab\"/></a>"
      ]
    },
    {
      "metadata": {
        "id": "42RlNH6NMIEA",
        "colab_type": "code",
        "colab": {}
      },
      "cell_type": "code",
      "source": [
        "import tensorflow as tf\n",
        "import os\n",
        "import tarfile\n",
        "import requests"
      ],
      "execution_count": 0,
      "outputs": []
    },
    {
      "metadata": {
        "id": "vZzhC7ExMx0R",
        "colab_type": "code",
        "colab": {
          "base_uri": "https://localhost:8080/",
          "height": 53
        },
        "outputId": "210f3618-48ea-4759-c7c8-63b2854a5096"
      },
      "cell_type": "code",
      "source": [
        "# inception模型下载地址\n",
        "inception_pretrain_model_url = \"http://download.tensorflow.org/models/image/imagenet/inception-2015-12-05.tgz\"\n",
        "\n",
        "# 模型存放地址\n",
        "inception_pretrain_model_dir = 'inception_model'\n",
        "if not os.path.exists(inception_pretrain_model_dir):\n",
        "    os.makedirs(inception_pretrain_model_dir)\n",
        "# 获取文件名以及文件路径\n",
        "filename = inception_pretrain_model_url.split('/')[-1]\n",
        "filepath = os.path.join(inception_pretrain_model_dir,filename)\n",
        "\n",
        "# 下载模型\n",
        "if not os.path.exists(filepath):\n",
        "    print(\"download:\",filename)\n",
        "    r = requests.get(inception_pretrain_model_url,stream=True)\n",
        "    with open(filepath,'wb') as f:\n",
        "        for chunk in r.iter_content(chunk_size=1024):\n",
        "            if chunk:\n",
        "                f.write(chunk)\n",
        "print('finish:',filename)\n",
        "# 解压文件\n",
        "tarfile.open(filepath,'r:gz').extractall(inception_pretrain_model_dir)"
      ],
      "execution_count": 2,
      "outputs": [
        {
          "output_type": "stream",
          "text": [
            "download: inception-2015-12-05.tgz\n",
            "finish: inception-2015-12-05.tgz\n"
          ],
          "name": "stdout"
        }
      ]
    },
    {
      "metadata": {
        "id": "ZZOBrxGmM9-n",
        "colab_type": "code",
        "colab": {
          "base_uri": "https://localhost:8080/",
          "height": 71
        },
        "outputId": "cde0e1a4-a2fa-4330-d668-d7fa95f878a1"
      },
      "cell_type": "code",
      "source": [
        "# 模型结构存放文件\n",
        "log_dir = 'inception_log'\n",
        "if not os.path.exists(log_dir):\n",
        "    os.makedirs(log_dir)\n",
        "    \n",
        "# classify_image_graph_def.pb为google训练好的模型\n",
        "inception_graph_def_file = os.path.join(inception_pretrain_model_dir,'classify_image_graph_def.pb')\n",
        "with tf.Session() as sess:\n",
        "    # 创建一个图来存放谷歌训练好的模型\n",
        "    with tf.gfile.FastGFile(inception_graph_def_file,'rb') as f:\n",
        "        graph_def = tf.GraphDef()\n",
        "        graph_def.ParseFromString(f.read())\n",
        "        tf.import_graph_def(graph_def,name=\"\")\n",
        "    # 保存图的结构\n",
        "    writer = tf.summary.FileWriter(log_dir,sess.graph)\n",
        "    writer.close()"
      ],
      "execution_count": 3,
      "outputs": [
        {
          "output_type": "stream",
          "text": [
            "WARNING:tensorflow:From <ipython-input-3-a41315795a43>:9: FastGFile.__init__ (from tensorflow.python.platform.gfile) is deprecated and will be removed in a future version.\n",
            "Instructions for updating:\n",
            "Use tf.gfile.GFile.\n"
          ],
          "name": "stdout"
        }
      ]
    },
    {
      "metadata": {
        "id": "oq0uUh7-NJP3",
        "colab_type": "text"
      },
      "cell_type": "markdown",
      "source": [
        "## 使用tensorboard 查看\n",
        "在tf_practice文件夹下（tf_practice包含了inception_log文件夹）运行如下命令：\n",
        "```\n",
        "tensorboard --logdir=F:\\ml_program\\practices\\20190310\\tf_practice\\inception_log --host=127.0.0.1\n",
        "```\n",
        "注:--logdir后面的路径不需要引号，否则加载不出来"
      ]
    }
  ]
}