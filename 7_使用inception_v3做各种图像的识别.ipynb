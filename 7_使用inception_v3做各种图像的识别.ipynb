{
  "nbformat": 4,
  "nbformat_minor": 0,
  "metadata": {
    "colab": {
      "name": "7-使用inception-v3做各种图像的识别.ipynb",
      "version": "0.3.2",
      "provenance": [],
      "include_colab_link": true
    },
    "kernelspec": {
      "name": "python3",
      "display_name": "Python 3"
    },
    "accelerator": "GPU"
  },
  "cells": [
    {
      "cell_type": "markdown",
      "metadata": {
        "id": "view-in-github",
        "colab_type": "text"
      },
      "source": [
        "<a href=\"https://colab.research.google.com/github/byerHu/tf_practice/blob/master/7_%E4%BD%BF%E7%94%A8inception_v3%E5%81%9A%E5%90%84%E7%A7%8D%E5%9B%BE%E5%83%8F%E7%9A%84%E8%AF%86%E5%88%AB.ipynb\" target=\"_parent\"><img src=\"https://colab.research.google.com/assets/colab-badge.svg\" alt=\"Open In Colab\"/></a>"
      ]
    },
    {
      "metadata": {
        "id": "42RlNH6NMIEA",
        "colab_type": "code",
        "colab": {}
      },
      "cell_type": "code",
      "source": [
        "import tensorflow as tf\n",
        "import os\n",
        "import numpy as np\n",
        "import re\n",
        "from PIL import Image\n",
        "import matplotlib.pyplot as plt"
      ],
      "execution_count": 0,
      "outputs": []
    },
    {
      "metadata": {
        "id": "vZzhC7ExMx0R",
        "colab_type": "code",
        "colab": {}
      },
      "cell_type": "code",
      "source": [
        "class NodeLookup(object):\n",
        "    def __init__(self):\n",
        "        label_lookup_path = 'inception_model/imagenet_2012_challenge_label_map_proto.pbtxt'\n",
        "        uid_lookup_path = 'inception_model/imagenet_synset_to_human_label_map.txt'\n",
        "        self.node_lookup = self.load(label_lookup_path, uid_lookup_path)\n",
        "        \n",
        "    def load(self, label_lookup_path, uid_lookup_path):\n",
        "        # 加载分类字符转n*******对应各分类名称的文件\n",
        "        proto_as_ascii_lines = tf.gfile.GFile(uid_lookup_path).readlines()\n",
        "        uid_to_human={}\n",
        "        # 一行一行读取数据\n",
        "        for line in proto_as_ascii_lines:\n",
        "            line = line.strip('\\n')\n",
        "            parsed_items = line.split('\\t')\n",
        "            uid = parsed_items[0]\n",
        "            human_string = parsed_items[1]\n",
        "            uid_to_human[uid] = human_string\n",
        "#         print(uid_to_human)\n",
        "            \n",
        "        # 加载分类字符串n*******对应分类编号1-1000的文件\n",
        "        proto_as_ascii = tf.gfile.GFile(label_lookup_path).readlines()\n",
        "        node_id_to_uid = {}\n",
        "        for line in proto_as_ascii:\n",
        "            if line.strip().startswith('target_class:'):\n",
        "                target_class = int(line.strip().split(':')[1])\n",
        "            elif line.strip().startswith('target_class_'):\n",
        "                target_class_string = line.strip().split(':')[1].strip()\n",
        "                node_id_to_uid[target_class] = target_class_string[1:-1]\n",
        "#         print(node_id_to_uid)\n",
        "        \n",
        "        # 建立分类编号 1-1000 与对应分类名称的映射关系\n",
        "        node_id_to_name = {}\n",
        "        for key,val in node_id_to_uid.items():\n",
        "            name = uid_to_human[val]\n",
        "            node_id_to_name[key] = name\n",
        "        \n",
        "        return node_id_to_name\n",
        "    \n",
        "    # 传入分类编号1-1000 返回分类名称\n",
        "    def id_to_string(self, node_id):\n",
        "        if node_id not in self.node_lookup:\n",
        "            return ''\n",
        "        return self.node_lookup[node_id]\n",
        "            \n",
        "# 创建一个图来存放google训练好的模型\n",
        "with tf.gfile.FastGFile('inception_model/classify_image_graph_def.pb','rb') as f:\n",
        "    graph_def = tf.GraphDef()\n",
        "    graph_def.ParseFromString(f.read())\n",
        "    tf.import_graph_def(graph_def, name='')\n",
        "\n",
        "node_lookup = NodeLookup()\n",
        "\n",
        "with tf.Session() as sess:\n",
        "    # 拿到softmax的op\n",
        "    # 'softmax:0'这个名字，可以在网络中找到这个节点，它的名字就'(softmax)',\n",
        "    softmax_tensor = sess.graph.get_tensor_by_name('softmax:0')\n",
        "    for root,dirs,files in os.walk('images/'):\n",
        "        for file in files:\n",
        "            image_data = tf.gfile.FastGFile(os.path.join(root,file),'rb').read()\n",
        "            # 运行softmax节点，向其中feed值\n",
        "            # 可以在网络中找到这个名字，DecodeJpeg/contents，\n",
        "            # 据此可以发现，根据名字取网络中op时，如果其名字带括号，就用括号内的名字，如果不带括号，就用右上角介绍的名字。\n",
        "            # 而带个0，是默认情况，如果网络中出现同名节点，这个编号会递增\n",
        "            predictions = sess.run(softmax_tensor,{'DecodeJpeg/contents:0':image_data})\n",
        "            predictions = np.squeeze(predictions)# 把结果转化为1维数据\n",
        "\n",
        "            image_path = os.path.join(root, file)\n",
        "            print(image_path)\n",
        "            img = Image.open(image_path)\n",
        "            plt.imshow(img)\n",
        "            plt.axis('off')\n",
        "            plt.show()\n",
        "\n",
        "            # 排序\n",
        "            top_k = predictions.argsort()[-5:][::-1]\n",
        "            for node_id in top_k:\n",
        "                human_string = node_lookup.id_to_string(node_id)\n",
        "                score = predictions[node_id]\n",
        "                print('%s (score = %.5f)' % (human_string, score))"
      ],
      "execution_count": 0,
      "outputs": []
    },
    {
      "metadata": {
        "id": "b7J_qo8gQKFG",
        "colab_type": "code",
        "colab": {}
      },
      "cell_type": "code",
      "source": [
        ""
      ],
      "execution_count": 0,
      "outputs": []
    },
    {
      "metadata": {
        "id": "9XER3ESfQKyv",
        "colab_type": "code",
        "colab": {}
      },
      "cell_type": "code",
      "source": [
        ""
      ],
      "execution_count": 0,
      "outputs": []
    },
    {
      "metadata": {
        "id": "TBi8XBwzN1yW",
        "colab_type": "code",
        "colab": {}
      },
      "cell_type": "code",
      "source": [
        ""
      ],
      "execution_count": 0,
      "outputs": []
    }
  ]
}