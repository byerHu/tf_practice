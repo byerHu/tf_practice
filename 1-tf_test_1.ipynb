{
  "nbformat": 4,
  "nbformat_minor": 0,
  "metadata": {
    "colab": {
      "name": "tf_test.ipynb",
      "version": "0.3.2",
      "provenance": [],
      "collapsed_sections": [],
      "include_colab_link": true
    },
    "kernelspec": {
      "name": "python3",
      "display_name": "Python 3"
    },
    "accelerator": "GPU"
  },
  "cells": [
    {
      "cell_type": "markdown",
      "metadata": {
        "id": "view-in-github",
        "colab_type": "text"
      },
      "source": [
        "<a href=\"https://colab.research.google.com/github/byerHu/tf_practice/blob/master/tf_test_1.ipynb\" target=\"_parent\"><img src=\"https://colab.research.google.com/assets/colab-badge.svg\" alt=\"Open In Colab\"/></a>"
      ]
    },
    {
      "metadata": {
        "id": "ecT3AsmyREtr",
        "colab_type": "code",
        "colab": {}
      },
      "cell_type": "code",
      "source": [
        "import tensorflow as tf"
      ],
      "execution_count": 0,
      "outputs": []
    },
    {
      "metadata": {
        "id": "ETpQV6t4dyQW",
        "colab_type": "code",
        "colab": {}
      },
      "cell_type": "code",
      "source": [
        "input_1 = tf.constant(3.0)"
      ],
      "execution_count": 0,
      "outputs": []
    },
    {
      "metadata": {
        "id": "X08PBKmZd2S6",
        "colab_type": "code",
        "colab": {}
      },
      "cell_type": "code",
      "source": [
        "input_2 = tf.constant(2.0)"
      ],
      "execution_count": 0,
      "outputs": []
    },
    {
      "metadata": {
        "id": "bpjAKFU_d4kw",
        "colab_type": "code",
        "colab": {}
      },
      "cell_type": "code",
      "source": [
        "input_3 = tf.constant(5.0)"
      ],
      "execution_count": 0,
      "outputs": []
    },
    {
      "metadata": {
        "id": "1VVTA8hzd6sV",
        "colab_type": "code",
        "colab": {}
      },
      "cell_type": "code",
      "source": [
        "add = tf.add(input_2,input_3)"
      ],
      "execution_count": 0,
      "outputs": []
    },
    {
      "metadata": {
        "id": "61GjKyc7d-2c",
        "colab_type": "code",
        "colab": {}
      },
      "cell_type": "code",
      "source": [
        "mul = tf.multiply(input_1,add)"
      ],
      "execution_count": 0,
      "outputs": []
    },
    {
      "metadata": {
        "id": "Wl_LcBX1eCTg",
        "colab_type": "code",
        "outputId": "55b77aa3-6ac1-4c22-a600-f1c84f358c27",
        "colab": {
          "base_uri": "https://localhost:8080/",
          "height": 35
        }
      },
      "cell_type": "code",
      "source": [
        "with tf.Session() as sess:\n",
        "  res = sess.run([mul,add])\n",
        "  print(res)"
      ],
      "execution_count": 0,
      "outputs": [
        {
          "output_type": "stream",
          "text": [
            "[21.0, 7.0]\n"
          ],
          "name": "stdout"
        }
      ]
    },
    {
      "metadata": {
        "id": "aNdz_aZteJUK",
        "colab_type": "code",
        "outputId": "0b2a179f-4473-4d97-94d2-06ca30cb02dc",
        "colab": {
          "base_uri": "https://localhost:8080/",
          "height": 35
        }
      },
      "cell_type": "code",
      "source": [
        "a = tf.placeholder(tf.float32)\n",
        "b = tf.placeholder(tf.float32)\n",
        "\n",
        "output = tf.multiply(a,b)\n",
        "\n",
        "with tf.Session() as sess:\n",
        "  res = sess.run(output,feed_dict={a:[7.0],b:[3.0]})\n",
        "  print(res)"
      ],
      "execution_count": 0,
      "outputs": [
        {
          "output_type": "stream",
          "text": [
            "[21.]\n"
          ],
          "name": "stdout"
        }
      ]
    },
    {
      "metadata": {
        "id": "KTs84irSfu9z",
        "colab_type": "code",
        "colab": {}
      },
      "cell_type": "code",
      "source": [
        "import tensorflow as tf\n",
        "import numpy as np"
      ],
      "execution_count": 0,
      "outputs": []
    },
    {
      "metadata": {
        "id": "NWeIUa1Hpa5P",
        "colab_type": "code",
        "colab": {}
      },
      "cell_type": "code",
      "source": [
        "# 使用numpy产生１００个随机点\n",
        "x_data = np.random.rand(100)\n",
        "y_data = x_data*0.1 + 0.2"
      ],
      "execution_count": 0,
      "outputs": []
    },
    {
      "metadata": {
        "id": "hBdovtI1ph_N",
        "colab_type": "code",
        "colab": {}
      },
      "cell_type": "code",
      "source": [
        "# 构造一个线性模型\n",
        "k = tf.Variable(0.)\n",
        "b = tf.Variable(0.)\n",
        "y = k*x_data + b\n",
        "\n"
      ],
      "execution_count": 0,
      "outputs": []
    },
    {
      "metadata": {
        "id": "i0var5xusY8b",
        "colab_type": "code",
        "outputId": "c112dda3-b0b8-43c7-a6ea-46616661419c",
        "colab": {
          "base_uri": "https://localhost:8080/",
          "height": 208
        }
      },
      "cell_type": "code",
      "source": [
        "# 定义二次损失\n",
        "loss = tf.reduce_mean(tf.square(y_data-y))\n",
        "\n",
        "# 定义优化器\n",
        "optimizer = tf.train.GradientDescentOptimizer(0.2)\n",
        "\n",
        "# 最小化损失\n",
        "train = optimizer.minimize(loss)\n",
        "\n",
        "# 初始化\n",
        "init = tf.global_variables_initializer()\n",
        "\n",
        "with tf.Session() as sess:\n",
        "  sess.run(init)\n",
        "  for step in range(201):\n",
        "    sess.run(train)\n",
        "    if step % 20 == 0:\n",
        "      print(step,sess.run([k,b]))"
      ],
      "execution_count": 0,
      "outputs": [
        {
          "output_type": "stream",
          "text": [
            "0 [0.04762692, 0.0980451]\n",
            "20 [0.09864993, 0.20065446]\n",
            "40 [0.099232875, 0.20037198]\n",
            "60 [0.0995641, 0.20021138]\n",
            "80 [0.09975231, 0.2001201]\n",
            "100 [0.09985925, 0.20006825]\n",
            "120 [0.09992003, 0.20003878]\n",
            "140 [0.09995455, 0.20002204]\n",
            "160 [0.09997418, 0.20001252]\n",
            "180 [0.09998533, 0.20000711]\n",
            "200 [0.099991664, 0.20000404]\n"
          ],
          "name": "stdout"
        }
      ]
    },
    {
      "metadata": {
        "id": "vX8YAYC-tlYk",
        "colab_type": "code",
        "colab": {}
      },
      "cell_type": "code",
      "source": [
        "import tensorflow as tf"
      ],
      "execution_count": 0,
      "outputs": []
    },
    {
      "metadata": {
        "id": "bzWdDcc8lcnx",
        "colab_type": "code",
        "colab": {}
      },
      "cell_type": "code",
      "source": [
        "import numpy as np\n",
        "import matplotlib.pyplot as plt"
      ],
      "execution_count": 0,
      "outputs": []
    },
    {
      "metadata": {
        "id": "SuAlOgFim_6x",
        "colab_type": "text"
      },
      "cell_type": "markdown",
      "source": [
        "## 生成样本点"
      ]
    },
    {
      "metadata": {
        "id": "1xprV36IlnhI",
        "colab_type": "code",
        "colab": {}
      },
      "cell_type": "code",
      "source": [
        "# 使用numpy生成均匀分布的２００个点 [:,np.newaxis]转换为200行一列\n",
        "x_data = np.linspace(-0.5,0.5,200)[:,np.newaxis]\n",
        "\n",
        "# 生成一些随机值产生干扰项\n",
        "noise = np.random.normal(0,0.02,x_data.shape)\n",
        "\n",
        "y_data = np.square(x_data) + noise"
      ],
      "execution_count": 0,
      "outputs": []
    },
    {
      "metadata": {
        "id": "OzRW7Mb6l7Q3",
        "colab_type": "code",
        "colab": {}
      },
      "cell_type": "code",
      "source": [
        "# 定义两个placeholder\n",
        "x = tf.placeholder(tf.float32,[None,1])\n",
        "y = tf.placeholder(tf.float32,[None,1])"
      ],
      "execution_count": 0,
      "outputs": []
    },
    {
      "metadata": {
        "id": "yK8GW5d_qnGj",
        "colab_type": "code",
        "outputId": "8b2aed77-7826-4965-fc1b-602028a54476",
        "colab": {
          "base_uri": "https://localhost:8080/",
          "height": 347
        }
      },
      "cell_type": "code",
      "source": [
        "# 定义神经网络中间层\n",
        "weight_L1 = tf.Variable(tf.random_normal([1,10]))\n",
        "bias_L1 = tf.Variable(tf.zeros([1,10]))\n",
        "result_L1 = tf.matmul(x,weight_L1) + bias_L1\n",
        "output_L1 = tf.nn.tanh(result_L1)\n",
        "\n",
        "# 定义输出层\n",
        "weight_L2 = tf.Variable(tf.random_normal([10,1]))\n",
        "bias_L2 = tf.Variable(tf.zeros([1,1]))\n",
        "result_L2 = tf.matmul(output_L1,weight_L2) + bias_L2\n",
        "predict = tf.nn.tanh(result_L2)\n",
        "\n",
        "# 定义loss\n",
        "loss = tf.reduce_mean(tf.square(y-predict))\n",
        "# 定义优化器\n",
        "optimizer = tf.train.GradientDescentOptimizer(0.1)\n",
        "# 最小化损失\n",
        "train = optimizer.minimize(loss)\n",
        "\n",
        "with tf.Session() as sess:\n",
        "  # 初始化\n",
        "  sess.run(tf.global_variables_initializer())\n",
        "  # 开始迭代\n",
        "  for _ in range(2000):\n",
        "    sess.run(train,feed_dict={x:x_data,y:y_data})\n",
        "  \n",
        "  # 获取预测值\n",
        "  predict_value = sess.run(predict,feed_dict={x:x_data})\n",
        "  \n",
        "  # 画图\n",
        "  plt.figure()\n",
        "  \n",
        "  plt.scatter(x_data,y_data)\n",
        "  \n",
        "  plt.plot(x_data,predict_value,'r-',lw=5)\n",
        "  \n",
        "  plt.show()"
      ],
      "execution_count": 0,
      "outputs": [
        {
          "output_type": "display_data",
          "data": {
            "image/png": "[encoded data removed]",
            "text/plain": [
              "<Figure size 576x396 with 1 Axes>"
            ]
          },
          "metadata": {
            "tags": []
          }
        }
      ]
    },
    {
      "metadata": {
        "id": "R44IxcBLtHcv",
        "colab_type": "code",
        "colab": {}
      },
      "cell_type": "code",
      "source": [
        "import tensorflow as tf"
      ],
      "execution_count": 0,
      "outputs": []
    },
    {
      "metadata": {
        "id": "O_8j91G4ap2N",
        "colab_type": "code",
        "colab": {}
      },
      "cell_type": "code",
      "source": [
        "from tensorflow.examples.tutorials.mnist import input_data"
      ],
      "execution_count": 0,
      "outputs": []
    },
    {
      "metadata": {
        "id": "-rRSMiV9a0k-",
        "colab_type": "code",
        "outputId": "51419f1e-e969-4d0c-9ade-ed50e952d7c5",
        "colab": {
          "base_uri": "https://localhost:8080/",
          "height": 540
        }
      },
      "cell_type": "code",
      "source": [
        "# 载入数据\n",
        "\n",
        "mnist = input_data.read_data_sets('MNIST_data',one_hot=True)"
      ],
      "execution_count": 0,
      "outputs": [
        {
          "output_type": "stream",
          "text": [
            "WARNING:tensorflow:From <ipython-input-3-6242f2049599>:2: read_data_sets (from tensorflow.contrib.learn.python.learn.datasets.mnist) is deprecated and will be removed in a future version.\n",
            "Instructions for updating:\n",
            "Please use alternatives such as official/mnist/dataset.py from tensorflow/models.\n",
            "WARNING:tensorflow:From /usr/local/lib/python3.6/dist-packages/tensorflow/contrib/learn/python/learn/datasets/mnist.py:260: maybe_download (from tensorflow.contrib.learn.python.learn.datasets.base) is deprecated and will be removed in a future version.\n",
            "Instructions for updating:\n",
            "Please write your own downloading logic.\n",
            "WARNING:tensorflow:From /usr/local/lib/python3.6/dist-packages/tensorflow/contrib/learn/python/learn/datasets/base.py:252: _internal_retry.<locals>.wrap.<locals>.wrapped_fn (from tensorflow.contrib.learn.python.learn.datasets.base) is deprecated and will be removed in a future version.\n",
            "Instructions for updating:\n",
            "Please use urllib or similar directly.\n",
            "Successfully downloaded train-images-idx3-ubyte.gz 9912422 bytes.\n",
            "WARNING:tensorflow:From /usr/local/lib/python3.6/dist-packages/tensorflow/contrib/learn/python/learn/datasets/mnist.py:262: extract_images (from tensorflow.contrib.learn.python.learn.datasets.mnist) is deprecated and will be removed in a future version.\n",
            "Instructions for updating:\n",
            "Please use tf.data to implement this functionality.\n",
            "Extracting MNIST_data/train-images-idx3-ubyte.gz\n",
            "Successfully downloaded train-labels-idx1-ubyte.gz 28881 bytes.\n",
            "WARNING:tensorflow:From /usr/local/lib/python3.6/dist-packages/tensorflow/contrib/learn/python/learn/datasets/mnist.py:267: extract_labels (from tensorflow.contrib.learn.python.learn.datasets.mnist) is deprecated and will be removed in a future version.\n",
            "Instructions for updating:\n",
            "Please use tf.data to implement this functionality.\n",
            "Extracting MNIST_data/train-labels-idx1-ubyte.gz\n",
            "WARNING:tensorflow:From /usr/local/lib/python3.6/dist-packages/tensorflow/contrib/learn/python/learn/datasets/mnist.py:110: dense_to_one_hot (from tensorflow.contrib.learn.python.learn.datasets.mnist) is deprecated and will be removed in a future version.\n",
            "Instructions for updating:\n",
            "Please use tf.one_hot on tensors.\n",
            "Successfully downloaded t10k-images-idx3-ubyte.gz 1648877 bytes.\n",
            "Extracting MNIST_data/t10k-images-idx3-ubyte.gz\n",
            "Successfully downloaded t10k-labels-idx1-ubyte.gz 4542 bytes.\n",
            "Extracting MNIST_data/t10k-labels-idx1-ubyte.gz\n",
            "WARNING:tensorflow:From /usr/local/lib/python3.6/dist-packages/tensorflow/contrib/learn/python/learn/datasets/mnist.py:290: DataSet.__init__ (from tensorflow.contrib.learn.python.learn.datasets.mnist) is deprecated and will be removed in a future version.\n",
            "Instructions for updating:\n",
            "Please use alternatives such as official/mnist/dataset.py from tensorflow/models.\n"
          ],
          "name": "stdout"
        }
      ]
    },
    {
      "metadata": {
        "id": "LSTY-sLFbR-A",
        "colab_type": "code",
        "outputId": "2ac47973-463b-4d24-971b-23151d0cecc6",
        "colab": {
          "base_uri": "https://localhost:8080/",
          "height": 381
        }
      },
      "cell_type": "code",
      "source": [
        "# 定义两个占位符\n",
        "x = tf.placeholder(tf.float32,[None,784])\n",
        "y = tf.placeholder(tf.float32,[None,10])\n",
        "\n",
        "# 定义一个批次\n",
        "batch_size = 50\n",
        "\n",
        "# 计算有多少个批次\n",
        "n_batch = mnist.train.num_examples // batch_size\n",
        "\n",
        "# 定义神经网络\n",
        "w_1 = tf.Variable(tf.zeros([784,10]))\n",
        "b_1 = tf.Variable(tf.zeros([10]))\n",
        "\n",
        "predict = tf.nn.softmax(tf.matmul(x,w_1)+b_1)\n",
        "\n",
        "# 定义损失\n",
        "# loss = tf.reduce_mean(tf.square(y-predict))\n",
        "loss = tf.reduce_mean(tf.nn.softmax_cross_entropy_with_logits_v2(labels=y,logits=predict))\n",
        "\n",
        "# 定义优化器\n",
        "train_step = tf.train.GradientDescentOptimizer(0.1).minimize(loss)\n",
        "\n",
        "# 初始化\n",
        "init = tf.global_variables_initializer()\n",
        "# 结果存放在一个布尔列表中\n",
        "correct_predict = tf.equal(tf.arg_max(y,1),tf.argmax(predict,1))\n",
        "\n",
        "# 计算准确率\n",
        "accuracy = tf.reduce_mean(tf.cast(correct_predict,tf.float32))\n",
        "\n",
        "with tf.Session() as sess:\n",
        "  sess.run(init)\n",
        "  \n",
        "  for epoch in range(21):\n",
        "    for batch in range(n_batch):\n",
        "      batch_xs,batch_ys = mnist.train.next_batch(batch_size)\n",
        "      sess.run(train_step,feed_dict={x:batch_xs,y:batch_ys})\n",
        "    \n",
        "    acc = sess.run(accuracy,feed_dict={x:mnist.test.images,y:mnist.test.labels})\n",
        "    \n",
        "    print(\"Iter \"+str(epoch)+\" Testing Accuracy：\"+str(acc))"
      ],
      "execution_count": 0,
      "outputs": [
        {
          "output_type": "stream",
          "text": [
            "Iter 0 Testing Accuracy：0.8245\n",
            "Iter 1 Testing Accuracy：0.8887\n",
            "Iter 2 Testing Accuracy：0.9011\n",
            "Iter 3 Testing Accuracy：0.9049\n",
            "Iter 4 Testing Accuracy：0.908\n",
            "Iter 5 Testing Accuracy：0.9095\n",
            "Iter 6 Testing Accuracy：0.9115\n",
            "Iter 7 Testing Accuracy：0.9135\n",
            "Iter 8 Testing Accuracy：0.9153\n",
            "Iter 9 Testing Accuracy：0.9155\n",
            "Iter 10 Testing Accuracy：0.9174\n",
            "Iter 11 Testing Accuracy：0.918\n",
            "Iter 12 Testing Accuracy：0.919\n",
            "Iter 13 Testing Accuracy：0.9198\n",
            "Iter 14 Testing Accuracy：0.9194\n",
            "Iter 15 Testing Accuracy：0.9218\n",
            "Iter 16 Testing Accuracy：0.9206\n",
            "Iter 17 Testing Accuracy：0.921\n",
            "Iter 18 Testing Accuracy：0.9215\n",
            "Iter 19 Testing Accuracy：0.9218\n",
            "Iter 20 Testing Accuracy：0.9216\n"
          ],
          "name": "stdout"
        }
      ]
    },
    {
      "metadata": {
        "id": "i4j8x_J2jILC",
        "colab_type": "code",
        "outputId": "d82cbbf3-c8e9-47a5-d628-48b05e018a5d",
        "colab": {
          "base_uri": "https://localhost:8080/",
          "height": 453
        }
      },
      "cell_type": "code",
      "source": [
        "# 定义两个占位符\n",
        "x = tf.placeholder(tf.float32,[None,784])\n",
        "y = tf.placeholder(tf.float32,[None,10])\n",
        "keep_prob = tf.placeholder(tf.float32)\n",
        "\n",
        "# 定义一个批次\n",
        "batch_size = 100\n",
        "\n",
        "# 计算有多少个批次\n",
        "n_batch = mnist.train.num_examples // batch_size\n",
        "\n",
        "# 定义神经网络\n",
        "w_1 = tf.Variable(tf.truncated_normal([784,2000],stddev=0.1))\n",
        "b_1 = tf.Variable(tf.zeros([2000])+0.1)\n",
        "L_1 = tf.nn.tanh(tf.matmul(x,w_1)+b_1)\n",
        "L_1_drop = tf.nn.dropout(L_1,keep_prob)\n",
        "\n",
        "w_2 = tf.Variable(tf.truncated_normal([2000,2000],stddev=0.1))\n",
        "b_2 = tf.Variable(tf.zeros([2000])+0.1)\n",
        "L_2 = tf.nn.tanh(tf.matmul(L_1_drop,w_2)+b_2)\n",
        "L_2_drop = tf.nn.dropout(L_2,keep_prob)\n",
        "\n",
        "w_3 = tf.Variable(tf.truncated_normal([2000,1000],stddev=0.1))\n",
        "b_3 = tf.Variable(tf.zeros([1000])+0.1)\n",
        "L_3 = tf.nn.tanh(tf.matmul(L_2_drop,w_3)+b_3)\n",
        "L_3_drop = tf.nn.dropout(L_3,keep_prob)\n",
        "\n",
        "w_4 = tf.Variable(tf.truncated_normal([1000,10],stddev=0.1))\n",
        "b_4 = tf.Variable(tf.zeros([10])+0.1)\n",
        "predict = tf.nn.softmax(tf.matmul(L_3_drop,w_4)+b_4)\n",
        "\n",
        "# 定义损失\n",
        "# loss = tf.reduce_mean(tf.square(y-predict))\n",
        "loss = tf.reduce_mean(tf.nn.softmax_cross_entropy_with_logits_v2(labels=y,logits=predict))\n",
        "\n",
        "# 定义优化器\n",
        "train_step = tf.train.GradientDescentOptimizer(0.1).minimize(loss)\n",
        "\n",
        "# 初始化\n",
        "init = tf.global_variables_initializer()\n",
        "# 结果存放在一个布尔列表中\n",
        "correct_predict = tf.equal(tf.arg_max(y,1),tf.argmax(predict,1))\n",
        "\n",
        "# 计算准确率\n",
        "accuracy = tf.reduce_mean(tf.cast(correct_predict,tf.float32))\n",
        "\n",
        "with tf.Session() as sess:\n",
        "  sess.run(init)\n",
        "  \n",
        "  for epoch in range(21):\n",
        "    for batch in range(n_batch):\n",
        "      batch_xs,batch_ys = mnist.train.next_batch(batch_size)\n",
        "      sess.run(train_step,feed_dict={x:batch_xs,y:batch_ys,keep_prob:1.0})\n",
        "    \n",
        "    test_acc = sess.run(accuracy,feed_dict={x:mnist.test.images,y:mnist.test.labels,keep_prob:1.0})\n",
        "    train_acc = sess.run(accuracy,feed_dict={x:mnist.train.images,y:mnist.train.labels,keep_prob:1.0})\n",
        "    print(\"Iter \"+str(epoch)+\" Testing Accuracy：\"+str(test_acc) + \",Training accuracy: \"+str(train_acc))"
      ],
      "execution_count": 0,
      "outputs": [
        {
          "output_type": "stream",
          "text": [
            "WARNING:tensorflow:From <ipython-input-33-01064b8a351c>:15: calling dropout (from tensorflow.python.ops.nn_ops) with keep_prob is deprecated and will be removed in a future version.\n",
            "Instructions for updating:\n",
            "Please use `rate` instead of `keep_prob`. Rate should be set to `rate = 1 - keep_prob`.\n",
            "Iter 0 Testing Accuracy：0.9399,Training accuracy: 0.94945455\n",
            "Iter 1 Testing Accuracy：0.9534,Training accuracy: 0.9676909\n",
            "Iter 2 Testing Accuracy：0.9589,Training accuracy: 0.9753636\n",
            "Iter 3 Testing Accuracy：0.9615,Training accuracy: 0.97981817\n",
            "Iter 4 Testing Accuracy：0.9634,Training accuracy: 0.9829636\n",
            "Iter 5 Testing Accuracy：0.9641,Training accuracy: 0.985\n",
            "Iter 6 Testing Accuracy：0.9642,Training accuracy: 0.9864182\n",
            "Iter 7 Testing Accuracy：0.9658,Training accuracy: 0.98745453\n",
            "Iter 8 Testing Accuracy：0.9658,Training accuracy: 0.9885091\n",
            "Iter 9 Testing Accuracy：0.9655,Training accuracy: 0.9891091\n",
            "Iter 10 Testing Accuracy：0.9675,Training accuracy: 0.9896909\n",
            "Iter 11 Testing Accuracy：0.9673,Training accuracy: 0.99005455\n",
            "Iter 12 Testing Accuracy：0.967,Training accuracy: 0.9903455\n",
            "Iter 13 Testing Accuracy：0.9674,Training accuracy: 0.99076366\n",
            "Iter 14 Testing Accuracy：0.9676,Training accuracy: 0.9910727\n",
            "Iter 15 Testing Accuracy：0.968,Training accuracy: 0.9913091\n",
            "Iter 16 Testing Accuracy：0.968,Training accuracy: 0.9914727\n",
            "Iter 17 Testing Accuracy：0.9676,Training accuracy: 0.9917273\n",
            "Iter 18 Testing Accuracy：0.969,Training accuracy: 0.9919818\n",
            "Iter 19 Testing Accuracy：0.9688,Training accuracy: 0.9921455\n",
            "Iter 20 Testing Accuracy：0.9685,Training accuracy: 0.9924\n"
          ],
          "name": "stdout"
        }
      ]
    },
    {
      "metadata": {
        "id": "sTzvir_i4qBc",
        "colab_type": "code",
        "outputId": "dc790a4d-5dab-4477-b782-4a0aeb862871",
        "colab": {
          "base_uri": "https://localhost:8080/",
          "height": 381
        }
      },
      "cell_type": "code",
      "source": [
        "# 定义两个占位符\n",
        "x = tf.placeholder(tf.float32,[None,784])\n",
        "y = tf.placeholder(tf.float32,[None,10])\n",
        "keep_prob = tf.placeholder(tf.float32)\n",
        "\n",
        "# 定义一个批次\n",
        "batch_size = 100\n",
        "\n",
        "# 计算有多少个批次\n",
        "n_batch = mnist.train.num_examples // batch_size\n",
        "\n",
        "# 定义神经网络\n",
        "w_1 = tf.Variable(tf.truncated_normal([784,2000],stddev=0.1))\n",
        "b_1 = tf.Variable(tf.zeros([2000])+0.1)\n",
        "L_1 = tf.nn.tanh(tf.matmul(x,w_1)+b_1)\n",
        "L_1_drop = tf.nn.dropout(L_1,keep_prob)\n",
        "\n",
        "w_2 = tf.Variable(tf.truncated_normal([2000,2000],stddev=0.1))\n",
        "b_2 = tf.Variable(tf.zeros([2000])+0.1)\n",
        "L_2 = tf.nn.tanh(tf.matmul(L_1_drop,w_2)+b_2)\n",
        "L_2_drop = tf.nn.dropout(L_2,keep_prob)\n",
        "\n",
        "w_3 = tf.Variable(tf.truncated_normal([2000,1000],stddev=0.1))\n",
        "b_3 = tf.Variable(tf.zeros([1000])+0.1)\n",
        "L_3 = tf.nn.tanh(tf.matmul(L_2_drop,w_3)+b_3)\n",
        "L_3_drop = tf.nn.dropout(L_3,keep_prob)\n",
        "\n",
        "w_4 = tf.Variable(tf.truncated_normal([1000,10],stddev=0.1))\n",
        "b_4 = tf.Variable(tf.zeros([10])+0.1)\n",
        "predict = tf.nn.softmax(tf.matmul(L_3_drop,w_4)+b_4)\n",
        "\n",
        "# 定义损失\n",
        "# loss = tf.reduce_mean(tf.square(y-predict))\n",
        "loss = tf.reduce_mean(tf.nn.softmax_cross_entropy_with_logits_v2(labels=y,logits=predict))\n",
        "\n",
        "# 定义优化器\n",
        "train_step = tf.train.GradientDescentOptimizer(0.1).minimize(loss)\n",
        "\n",
        "# 初始化\n",
        "init = tf.global_variables_initializer()\n",
        "# 结果存放在一个布尔列表中\n",
        "correct_predict = tf.equal(tf.arg_max(y,1),tf.argmax(predict,1))\n",
        "\n",
        "# 计算准确率\n",
        "accuracy = tf.reduce_mean(tf.cast(correct_predict,tf.float32))\n",
        "\n",
        "with tf.Session() as sess:\n",
        "  sess.run(init)\n",
        "  \n",
        "  for epoch in range(21):\n",
        "    for batch in range(n_batch):\n",
        "      batch_xs,batch_ys = mnist.train.next_batch(batch_size)\n",
        "      sess.run(train_step,feed_dict={x:batch_xs,y:batch_ys,keep_prob:0.7})\n",
        "    \n",
        "    test_acc = sess.run(accuracy,feed_dict={x:mnist.test.images,y:mnist.test.labels,keep_prob:0.7})\n",
        "    train_acc = sess.run(accuracy,feed_dict={x:mnist.train.images,y:mnist.train.labels,keep_prob:0.7})\n",
        "    print(\"Iter \"+str(epoch)+\" Testing Accuracy：\"+str(test_acc) + \",Training accuracy: \"+str(train_acc))"
      ],
      "execution_count": 0,
      "outputs": [
        {
          "output_type": "stream",
          "text": [
            "Iter 0 Testing Accuracy：0.8572,Training accuracy: 0.84685457\n",
            "Iter 1 Testing Accuracy：0.8867,Training accuracy: 0.88134545\n",
            "Iter 2 Testing Accuracy：0.8999,Training accuracy: 0.8936\n",
            "Iter 3 Testing Accuracy：0.9099,Training accuracy: 0.9050364\n",
            "Iter 4 Testing Accuracy：0.9157,Training accuracy: 0.91130906\n",
            "Iter 5 Testing Accuracy：0.9168,Training accuracy: 0.91583633\n",
            "Iter 6 Testing Accuracy：0.9204,Training accuracy: 0.91874546\n",
            "Iter 7 Testing Accuracy：0.924,Training accuracy: 0.92196363\n",
            "Iter 8 Testing Accuracy：0.9258,Training accuracy: 0.9265091\n",
            "Iter 9 Testing Accuracy：0.9287,Training accuracy: 0.9282\n",
            "Iter 10 Testing Accuracy：0.9311,Training accuracy: 0.9310182\n",
            "Iter 11 Testing Accuracy：0.9311,Training accuracy: 0.93407273\n",
            "Iter 12 Testing Accuracy：0.9311,Training accuracy: 0.93529093\n",
            "Iter 13 Testing Accuracy：0.9359,Training accuracy: 0.9363273\n",
            "Iter 14 Testing Accuracy：0.9364,Training accuracy: 0.9391091\n",
            "Iter 15 Testing Accuracy：0.9352,Training accuracy: 0.93834543\n",
            "Iter 16 Testing Accuracy：0.939,Training accuracy: 0.9408182\n",
            "Iter 17 Testing Accuracy：0.9386,Training accuracy: 0.9435273\n",
            "Iter 18 Testing Accuracy：0.9423,Training accuracy: 0.9431091\n",
            "Iter 19 Testing Accuracy：0.9389,Training accuracy: 0.9442\n",
            "Iter 20 Testing Accuracy：0.942,Training accuracy: 0.9454\n"
          ],
          "name": "stdout"
        }
      ]
    },
    {
      "metadata": {
        "id": "lZovVYch5SrD",
        "colab_type": "code",
        "outputId": "0868c755-0753-4fde-a444-0ad5452fe88b",
        "colab": {
          "base_uri": "https://localhost:8080/",
          "height": 555
        }
      },
      "cell_type": "code",
      "source": [
        "# 定义两个占位符\n",
        "x = tf.placeholder(tf.float32,[None,784])\n",
        "y = tf.placeholder(tf.float32,[None,10])\n",
        "keep_prob = tf.placeholder(tf.float32)\n",
        "\n",
        "# 定义一个批次\n",
        "batch_size = 100\n",
        "\n",
        "# 计算有多少个批次\n",
        "n_batch = mnist.train.num_examples // batch_size\n",
        "\n",
        "# 定义神经网络\n",
        "w_1 = tf.Variable(tf.truncated_normal([784,2000],stddev=0.1))\n",
        "b_1 = tf.Variable(tf.zeros([2000])+0.1)\n",
        "L_1 = tf.nn.tanh(tf.matmul(x,w_1)+b_1)\n",
        "L_1_drop = tf.nn.dropout(L_1,keep_prob)\n",
        "\n",
        "w_2 = tf.Variable(tf.truncated_normal([2000,2000],stddev=0.1))\n",
        "b_2 = tf.Variable(tf.zeros([2000])+0.1)\n",
        "L_2 = tf.nn.tanh(tf.matmul(L_1_drop,w_2)+b_2)\n",
        "L_2_drop = tf.nn.dropout(L_2,keep_prob)\n",
        "\n",
        "w_3 = tf.Variable(tf.truncated_normal([2000,1000],stddev=0.1))\n",
        "b_3 = tf.Variable(tf.zeros([1000])+0.1)\n",
        "L_3 = tf.nn.tanh(tf.matmul(L_2_drop,w_3)+b_3)\n",
        "L_3_drop = tf.nn.dropout(L_3,keep_prob)\n",
        "\n",
        "w_4 = tf.Variable(tf.truncated_normal([1000,10],stddev=0.1))\n",
        "b_4 = tf.Variable(tf.zeros([10])+0.1)\n",
        "predict = tf.nn.softmax(tf.matmul(L_3_drop,w_4)+b_4)\n",
        "\n",
        "# 定义损失\n",
        "# loss = tf.reduce_mean(tf.square(y-predict))\n",
        "loss = tf.reduce_mean(tf.nn.softmax_cross_entropy_with_logits_v2(labels=y,logits=predict))\n",
        "\n",
        "# 定义优化器\n",
        "train_step = tf.train.GradientDescentOptimizer(0.1).minimize(loss)\n",
        "\n",
        "# 初始化\n",
        "init = tf.global_variables_initializer()\n",
        "# 结果存放在一个布尔列表中\n",
        "correct_predict = tf.equal(tf.arg_max(y,1),tf.argmax(predict,1))\n",
        "\n",
        "# 计算准确率\n",
        "accuracy = tf.reduce_mean(tf.cast(correct_predict,tf.float32))\n",
        "\n",
        "with tf.Session() as sess:\n",
        "  sess.run(init)\n",
        "  \n",
        "  for epoch in range(31):\n",
        "    for batch in range(n_batch):\n",
        "      batch_xs,batch_ys = mnist.train.next_batch(batch_size)\n",
        "      sess.run(train_step,feed_dict={x:batch_xs,y:batch_ys,keep_prob:0.7})\n",
        "    \n",
        "    test_acc = sess.run(accuracy,feed_dict={x:mnist.test.images,y:mnist.test.labels,keep_prob:1.0})\n",
        "    train_acc = sess.run(accuracy,feed_dict={x:mnist.train.images,y:mnist.train.labels,keep_prob:1.0})\n",
        "    print(\"Iter \"+str(epoch)+\" Testing Accuracy：\"+str(test_acc) + \",Training accuracy: \"+str(train_acc))"
      ],
      "execution_count": 0,
      "outputs": [
        {
          "output_type": "stream",
          "text": [
            "Iter 0 Testing Accuracy：0.8999,Training accuracy: 0.89583635\n",
            "Iter 1 Testing Accuracy：0.9192,Training accuracy: 0.9154182\n",
            "Iter 2 Testing Accuracy：0.9288,Training accuracy: 0.9252\n",
            "Iter 3 Testing Accuracy：0.9323,Training accuracy: 0.93052727\n",
            "Iter 4 Testing Accuracy：0.9357,Training accuracy: 0.9345273\n",
            "Iter 5 Testing Accuracy：0.9396,Training accuracy: 0.9382182\n",
            "Iter 6 Testing Accuracy：0.941,Training accuracy: 0.9405091\n",
            "Iter 7 Testing Accuracy：0.9436,Training accuracy: 0.9438182\n",
            "Iter 8 Testing Accuracy：0.9455,Training accuracy: 0.94650906\n",
            "Iter 9 Testing Accuracy：0.9472,Training accuracy: 0.94754547\n",
            "Iter 10 Testing Accuracy：0.9467,Training accuracy: 0.94927275\n",
            "Iter 11 Testing Accuracy：0.9496,Training accuracy: 0.95158184\n",
            "Iter 12 Testing Accuracy：0.9507,Training accuracy: 0.9533273\n",
            "Iter 13 Testing Accuracy：0.952,Training accuracy: 0.95467275\n",
            "Iter 14 Testing Accuracy：0.9521,Training accuracy: 0.95567274\n",
            "Iter 15 Testing Accuracy：0.9542,Training accuracy: 0.9577091\n",
            "Iter 16 Testing Accuracy：0.9541,Training accuracy: 0.9584727\n",
            "Iter 17 Testing Accuracy：0.9555,Training accuracy: 0.96009094\n",
            "Iter 18 Testing Accuracy：0.9565,Training accuracy: 0.96132725\n",
            "Iter 19 Testing Accuracy：0.9563,Training accuracy: 0.96223634\n",
            "Iter 20 Testing Accuracy：0.9589,Training accuracy: 0.9626182\n",
            "Iter 21 Testing Accuracy：0.9598,Training accuracy: 0.96403635\n",
            "Iter 22 Testing Accuracy：0.9599,Training accuracy: 0.9648\n",
            "Iter 23 Testing Accuracy：0.9594,Training accuracy: 0.96501815\n",
            "Iter 24 Testing Accuracy：0.9611,Training accuracy: 0.96596366\n",
            "Iter 25 Testing Accuracy：0.9614,Training accuracy: 0.96656364\n",
            "Iter 26 Testing Accuracy：0.9623,Training accuracy: 0.96754545\n",
            "Iter 27 Testing Accuracy：0.962,Training accuracy: 0.9682\n",
            "Iter 28 Testing Accuracy：0.9638,Training accuracy: 0.9686546\n",
            "Iter 29 Testing Accuracy：0.9645,Training accuracy: 0.96918184\n",
            "Iter 30 Testing Accuracy：0.9642,Training accuracy: 0.9698727\n"
          ],
          "name": "stdout"
        }
      ]
    },
    {
      "metadata": {
        "id": "wHLJz3Vn5tPi",
        "colab_type": "code",
        "outputId": "091afd2b-17d8-4bd0-a3ab-96e934d487bd",
        "colab": {
          "base_uri": "https://localhost:8080/",
          "height": 52
        }
      },
      "cell_type": "code",
      "source": [
        "%time L = [i**2 for i in range(10000000)]"
      ],
      "execution_count": 0,
      "outputs": [
        {
          "output_type": "stream",
          "text": [
            "CPU times: user 2.87 s, sys: 157 ms, total: 3.03 s\n",
            "Wall time: 3.03 s\n"
          ],
          "name": "stdout"
        }
      ]
    },
    {
      "metadata": {
        "id": "sojJG349X72O",
        "colab_type": "code",
        "outputId": "7ee31caa-85c8-4a82-c42f-f7fc2ec1d7ec",
        "colab": {
          "base_uri": "https://localhost:8080/",
          "height": 451
        }
      },
      "cell_type": "code",
      "source": [
        "import tensorflow as tf\n",
        "\n",
        "from tensorflow.examples.tutorials.mnist import input_data\n",
        "\n",
        "# 载入mnist数据集\n",
        "mnist = input_data.read_data_sets('MNIST_data',one_hot=True)\n",
        "\n",
        "# 定义两个占位符\n",
        "x = tf.placeholder(tf.float32,[None,784])\n",
        "y = tf.placeholder(tf.float32,[None,10])\n",
        "\n",
        "# 定义一个批次\n",
        "batch_size = 50\n",
        "\n",
        "# 计算有多少个批次\n",
        "n_batch = mnist.train.num_examples // batch_size\n",
        "\n",
        "# 定义神经网络\n",
        "w_1 = tf.Variable(tf.zeros([784,10]))\n",
        "b_1 = tf.Variable(tf.zeros([10]))\n",
        "\n",
        "predict = tf.nn.softmax(tf.matmul(x,w_1)+b_1)\n",
        "\n",
        "# 定义损失\n",
        "# loss = tf.reduce_mean(tf.square(y-predict))\n",
        "loss = tf.reduce_mean(tf.nn.softmax_cross_entropy_with_logits_v2(labels=y,logits=predict))\n",
        "\n",
        "# 定义优化器\n",
        "# train_step = tf.train.GradientDescentOptimizer(0.1).minimize(loss)\n",
        "train_step = tf.train.AdamOptimizer(1e-2).minimize(loss)\n",
        "# 初始化\n",
        "init = tf.global_variables_initializer()\n",
        "# 结果存放在一个布尔列表中\n",
        "correct_predict = tf.equal(tf.arg_max(y,1),tf.argmax(predict,1))\n",
        "\n",
        "# 计算准确率\n",
        "accuracy = tf.reduce_mean(tf.cast(correct_predict,tf.float32))\n",
        "\n",
        "with tf.Session() as sess:\n",
        "  sess.run(init)\n",
        "  \n",
        "  for epoch in range(21):\n",
        "    for batch in range(n_batch):\n",
        "      batch_xs,batch_ys = mnist.train.next_batch(batch_size)\n",
        "      sess.run(train_step,feed_dict={x:batch_xs,y:batch_ys})\n",
        "    \n",
        "    acc = sess.run(accuracy,feed_dict={x:mnist.test.images,y:mnist.test.labels})\n",
        "    \n",
        "    print(\"Iter \"+str(epoch)+\" Testing Accuracy：\"+str(acc))"
      ],
      "execution_count": 0,
      "outputs": [
        {
          "output_type": "stream",
          "text": [
            "Extracting MNIST_data/train-images-idx3-ubyte.gz\n",
            "Extracting MNIST_data/train-labels-idx1-ubyte.gz\n",
            "Extracting MNIST_data/t10k-images-idx3-ubyte.gz\n",
            "Extracting MNIST_data/t10k-labels-idx1-ubyte.gz\n",
            "Iter 0 Testing Accuracy：0.9191\n",
            "Iter 1 Testing Accuracy：0.9228\n",
            "Iter 2 Testing Accuracy：0.9297\n",
            "Iter 3 Testing Accuracy：0.9275\n",
            "Iter 4 Testing Accuracy：0.9262\n",
            "Iter 5 Testing Accuracy：0.9254\n",
            "Iter 6 Testing Accuracy：0.9312\n",
            "Iter 7 Testing Accuracy：0.9233\n",
            "Iter 8 Testing Accuracy：0.9289\n",
            "Iter 9 Testing Accuracy：0.9303\n",
            "Iter 10 Testing Accuracy：0.9313\n",
            "Iter 11 Testing Accuracy：0.9301\n",
            "Iter 12 Testing Accuracy：0.93\n",
            "Iter 13 Testing Accuracy：0.9292\n",
            "Iter 14 Testing Accuracy：0.9295\n",
            "Iter 15 Testing Accuracy：0.9311\n",
            "Iter 16 Testing Accuracy：0.9314\n",
            "Iter 17 Testing Accuracy：0.9302\n",
            "Iter 18 Testing Accuracy：0.93\n",
            "Iter 19 Testing Accuracy：0.9326\n",
            "Iter 20 Testing Accuracy：0.9292\n"
          ],
          "name": "stdout"
        }
      ]
    },
    {
      "metadata": {
        "id": "cWDysKh7bd3w",
        "colab_type": "code",
        "outputId": "4d97d860-4fd4-4320-b55d-869d8fadb7ed",
        "colab": {
          "base_uri": "https://localhost:8080/",
          "height": 901
        }
      },
      "cell_type": "code",
      "source": [
        "# 定义两个占位符\n",
        "x = tf.placeholder(tf.float32,[None,784])\n",
        "y = tf.placeholder(tf.float32,[None,10])\n",
        "keep_prob = tf.placeholder(tf.float32)\n",
        "\n",
        "# 定义一个批次\n",
        "batch_size = 100\n",
        "\n",
        "# 计算有多少个批次\n",
        "n_batch = mnist.train.num_examples // batch_size\n",
        "\n",
        "# 定义学习率\n",
        "lr = tf.Variable(0.001,tf.float32)\n",
        "\n",
        "# 定义神经网络\n",
        "w_1 = tf.Variable(tf.truncated_normal([784,500],stddev=0.1))\n",
        "b_1 = tf.Variable(tf.zeros([500])+0.1)\n",
        "L_1 = tf.nn.tanh(tf.matmul(x,w_1)+b_1)\n",
        "L_1_drop = tf.nn.dropout(L_1,keep_prob)\n",
        "\n",
        "w_2 = tf.Variable(tf.truncated_normal([500,500],stddev=0.1))\n",
        "b_2 = tf.Variable(tf.zeros([500])+0.1)\n",
        "L_2 = tf.nn.tanh(tf.matmul(L_1_drop,w_2)+b_2)\n",
        "L_2_drop = tf.nn.dropout(L_2,keep_prob)\n",
        "\n",
        "w_3 = tf.Variable(tf.truncated_normal([500,300],stddev=0.1))\n",
        "b_3 = tf.Variable(tf.zeros([300])+0.1)\n",
        "L_3 = tf.nn.tanh(tf.matmul(L_2_drop,w_3)+b_3)\n",
        "L_3_drop = tf.nn.dropout(L_3,keep_prob)\n",
        "\n",
        "w_4 = tf.Variable(tf.truncated_normal([300,10],stddev=0.1))\n",
        "b_4 = tf.Variable(tf.zeros([10])+0.1)\n",
        "predict = tf.nn.softmax(tf.matmul(L_3_drop,w_4)+b_4)\n",
        "\n",
        "# 定义损失\n",
        "# loss = tf.reduce_mean(tf.square(y-predict))\n",
        "loss = tf.reduce_mean(tf.nn.softmax_cross_entropy_with_logits_v2(labels=y,logits=predict))\n",
        "\n",
        "# 定义优化器\n",
        "# train_step = tf.train.GradientDescentOptimizer(0.1).minimize(loss)\n",
        "train_step = tf.train.AdamOptimizer(lr).minimize(loss)\n",
        "# 初始化\n",
        "init = tf.global_variables_initializer()\n",
        "# 结果存放在一个布尔列表中\n",
        "correct_predict = tf.equal(tf.arg_max(y,1),tf.argmax(predict,1))\n",
        "\n",
        "# 计算准确率\n",
        "accuracy = tf.reduce_mean(tf.cast(correct_predict,tf.float32))\n",
        "\n",
        "with tf.Session() as sess:\n",
        "  sess.run(init)\n",
        "  \n",
        "  for epoch in range(51):\n",
        "    sess.run(tf.assign(lr,0.001 *(0.95**epoch)))\n",
        "    for batch in range(n_batch):\n",
        "      batch_xs,batch_ys = mnist.train.next_batch(batch_size)\n",
        "      sess.run(train_step,feed_dict={x:batch_xs,y:batch_ys,keep_prob:1.0})\n",
        "    \n",
        "    learing_rate = sess.run(lr)\n",
        "    test_acc = sess.run(accuracy,feed_dict={x:mnist.test.images,y:mnist.test.labels,keep_prob:1.0})\n",
        "    train_acc = sess.run(accuracy,feed_dict={x:mnist.train.images,y:mnist.train.labels,keep_prob:1.0})\n",
        "    print(\"Iter \"+str(epoch)+\" Testing Accuracy：\"+str(test_acc) + \",Training accuracy: \"+str(train_acc) + \" learning rate:\"+str(learing_rate))"
      ],
      "execution_count": 0,
      "outputs": [
        {
          "output_type": "stream",
          "text": [
            "Iter 0 Testing Accuracy：0.9568,Training accuracy: 0.9606909 learning rate:0.001\n",
            "Iter 1 Testing Accuracy：0.9614,Training accuracy: 0.9696 learning rate:0.00095\n",
            "Iter 2 Testing Accuracy：0.964,Training accuracy: 0.9756727 learning rate:0.0009025\n",
            "Iter 3 Testing Accuracy：0.9696,Training accuracy: 0.97998184 learning rate:0.000857375\n",
            "Iter 4 Testing Accuracy：0.9707,Training accuracy: 0.98358184 learning rate:0.00081450626\n",
            "Iter 5 Testing Accuracy：0.973,Training accuracy: 0.9861636 learning rate:0.0007737809\n",
            "Iter 6 Testing Accuracy：0.9708,Training accuracy: 0.9872909 learning rate:0.0007350919\n",
            "Iter 7 Testing Accuracy：0.977,Training accuracy: 0.98954546 learning rate:0.0006983373\n",
            "Iter 8 Testing Accuracy：0.9787,Training accuracy: 0.99136364 learning rate:0.0006634204\n",
            "Iter 9 Testing Accuracy：0.9769,Training accuracy: 0.99143636 learning rate:0.0006302494\n",
            "Iter 10 Testing Accuracy：0.9797,Training accuracy: 0.99372727 learning rate:0.0005987369\n",
            "Iter 11 Testing Accuracy：0.9775,Training accuracy: 0.9937091 learning rate:0.0005688001\n",
            "Iter 12 Testing Accuracy：0.9797,Training accuracy: 0.9941091 learning rate:0.0005403601\n",
            "Iter 13 Testing Accuracy：0.9806,Training accuracy: 0.9952 learning rate:0.0005133421\n",
            "Iter 14 Testing Accuracy：0.9792,Training accuracy: 0.9954 learning rate:0.000487675\n",
            "Iter 15 Testing Accuracy：0.9821,Training accuracy: 0.99578184 learning rate:0.00046329122\n",
            "Iter 16 Testing Accuracy：0.9797,Training accuracy: 0.9951091 learning rate:0.00044012666\n",
            "Iter 17 Testing Accuracy：0.9797,Training accuracy: 0.99605453 learning rate:0.00041812033\n",
            "Iter 18 Testing Accuracy：0.9771,Training accuracy: 0.9951636 learning rate:0.00039721432\n",
            "Iter 19 Testing Accuracy：0.9794,Training accuracy: 0.9958 learning rate:0.0003773536\n",
            "Iter 20 Testing Accuracy：0.9815,Training accuracy: 0.9960727 learning rate:0.00035848594\n",
            "Iter 21 Testing Accuracy：0.9815,Training accuracy: 0.9966 learning rate:0.00034056162\n",
            "Iter 22 Testing Accuracy：0.9812,Training accuracy: 0.99665457 learning rate:0.00032353355\n",
            "Iter 23 Testing Accuracy：0.981,Training accuracy: 0.9968 learning rate:0.00030735688\n",
            "Iter 24 Testing Accuracy：0.9812,Training accuracy: 0.9967091 learning rate:0.000291989\n",
            "Iter 25 Testing Accuracy：0.9807,Training accuracy: 0.99676365 learning rate:0.00027738957\n",
            "Iter 26 Testing Accuracy：0.9807,Training accuracy: 0.99694544 learning rate:0.0002635201\n",
            "Iter 27 Testing Accuracy：0.9817,Training accuracy: 0.99703634 learning rate:0.00025034408\n",
            "Iter 28 Testing Accuracy：0.9823,Training accuracy: 0.99692726 learning rate:0.00023782688\n",
            "Iter 29 Testing Accuracy：0.9818,Training accuracy: 0.9971273 learning rate:0.00022593554\n",
            "Iter 30 Testing Accuracy：0.9828,Training accuracy: 0.9972182 learning rate:0.00021463877\n",
            "Iter 31 Testing Accuracy：0.9804,Training accuracy: 0.99725455 learning rate:0.00020390682\n",
            "Iter 32 Testing Accuracy：0.9817,Training accuracy: 0.99727273 learning rate:0.00019371149\n",
            "Iter 33 Testing Accuracy：0.9821,Training accuracy: 0.9972909 learning rate:0.0001840259\n",
            "Iter 34 Testing Accuracy：0.9821,Training accuracy: 0.99734545 learning rate:0.00017482461\n",
            "Iter 35 Testing Accuracy：0.982,Training accuracy: 0.9973636 learning rate:0.00016608338\n",
            "Iter 36 Testing Accuracy：0.981,Training accuracy: 0.9970545 learning rate:0.00015777921\n",
            "Iter 37 Testing Accuracy：0.981,Training accuracy: 0.99734545 learning rate:0.00014989026\n",
            "Iter 38 Testing Accuracy：0.9803,Training accuracy: 0.9973636 learning rate:0.00014239574\n",
            "Iter 39 Testing Accuracy：0.9809,Training accuracy: 0.9973818 learning rate:0.00013527596\n",
            "Iter 40 Testing Accuracy：0.9812,Training accuracy: 0.9973818 learning rate:0.00012851215\n",
            "Iter 41 Testing Accuracy：0.9814,Training accuracy: 0.9973818 learning rate:0.00012208655\n",
            "Iter 42 Testing Accuracy：0.9816,Training accuracy: 0.9973818 learning rate:0.00011598222\n",
            "Iter 43 Testing Accuracy：0.9821,Training accuracy: 0.9973818 learning rate:0.00011018311\n",
            "Iter 44 Testing Accuracy：0.9816,Training accuracy: 0.99741817 learning rate:0.000104673956\n",
            "Iter 45 Testing Accuracy：0.9828,Training accuracy: 0.99743634 learning rate:9.944026e-05\n",
            "Iter 46 Testing Accuracy：0.9821,Training accuracy: 0.99743634 learning rate:9.446825e-05\n",
            "Iter 47 Testing Accuracy：0.9823,Training accuracy: 0.9974909 learning rate:8.974483e-05\n",
            "Iter 48 Testing Accuracy：0.9819,Training accuracy: 0.9974727 learning rate:8.525759e-05\n",
            "Iter 49 Testing Accuracy：0.9814,Training accuracy: 0.99758184 learning rate:8.099471e-05\n",
            "Iter 50 Testing Accuracy：0.9824,Training accuracy: 0.99758184 learning rate:7.6944976e-05\n"
          ],
          "name": "stdout"
        }
      ]
    },
    {
      "metadata": {
        "id": "oGqPvqOmdGnZ",
        "colab_type": "code",
        "colab": {}
      },
      "cell_type": "code",
      "source": [
        ""
      ],
      "execution_count": 0,
      "outputs": []
    }
  ]
}